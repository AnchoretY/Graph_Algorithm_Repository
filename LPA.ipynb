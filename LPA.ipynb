{
 "cells": [
  {
   "cell_type": "markdown",
   "metadata": {},
   "source": [
    "# LPA"
   ]
  },
  {
   "cell_type": "markdown",
   "metadata": {},
   "source": [
    "&emsp;&emsp;LPA算法全称Label ProPagation Algorithm,使用中使用多数投票方式进行标签传播的社区发现算法。核心思想就是各个节点根据与之相连的标签中大多数的标签类型来进行类别更新，最终的停止条件为设定指定的轮数或者更新一轮各个节点的Label都不再变化。"
   ]
  },
  {
   "cell_type": "code",
   "execution_count": 1,
   "metadata": {},
   "outputs": [],
   "source": [
    "import networkx as nx\n",
    "import matplotlib.pyplot as plt\n",
    "import random"
   ]
  },
  {
   "cell_type": "markdown",
   "metadata": {},
   "source": [
    "# 使用NetworkX实现"
   ]
  },
  {
   "cell_type": "code",
   "execution_count": 2,
   "metadata": {},
   "outputs": [
    {
     "data": {
      "image/png": "[encoded data removed]",
      "text/plain": [
       "<Figure size 432x288 with 1 Axes>"
      ]
     },
     "metadata": {},
     "output_type": "display_data"
    }
   ],
   "source": [
    "filePath = \"label_data.txt\"\n",
    "\n",
    "def load_Data(filePath):\n",
    "    \n",
    "    f = open(filePath)\n",
    "    G = nx.DiGraph()\n",
    "\n",
    "    edge_weight_list = []\n",
    "    for line in f.readlines():\n",
    "        edge_weight = [int(i) for i in line.split(\"   \")]\n",
    "        edge_weight_list.append(edge_weight)\n",
    "\n",
    "    G.add_weighted_edges_from(edge_weight_list)\n",
    "    \n",
    "    # 给每个节点增加标签\n",
    "    for node, data in list(G.nodes(data=True)):\n",
    "        data['label'] = node\n",
    "    \n",
    "    return G\n",
    "\n",
    "def lpa(graph):\n",
    "    node_color = []\n",
    "    cluster_result = nx.algorithms.community.asyn_lpa_communities(graph)\n",
    "    return cluster_result\n",
    "   \n",
    "            \n",
    "def plot_acrroding_lpa_cluster(lpa_cluster_result):\n",
    "    node_color = []\n",
    "    for i,data in enumerate(lpa_cluster_result):\n",
    "        for node_number in data:\n",
    "            node_color.append(i)\n",
    "    \n",
    "    nx.draw_networkx(G, node_color=node_color)\n",
    "    plt.show()\n",
    "    \n",
    "    \n",
    "G = load_Data(filePath)\n",
    "lpa_cluster_result = lpa(G)\n",
    "plot_acrroding_lpa_cluster(lpa_cluster_result)"
   ]
  },
  {
   "cell_type": "code",
   "execution_count": null,
   "metadata": {},
   "outputs": [],
   "source": []
  },
  {
   "cell_type": "code",
   "execution_count": null,
   "metadata": {},
   "outputs": [],
   "source": []
  },
  {
   "cell_type": "markdown",
   "metadata": {},
   "source": [
    "# 自己构建从底层构建的LPA"
   ]
  },
  {
   "cell_type": "code",
   "execution_count": 3,
   "metadata": {},
   "outputs": [],
   "source": [
    "def load_Data(filePath):\n",
    "    \n",
    "    f = open(filePath)\n",
    "    G = nx.DiGraph()\n",
    "\n",
    "    edge_weight_list = []\n",
    "    for line in f.readlines():\n",
    "        edge_weight = [int(i) for i in line.split(\"   \")]\n",
    "        edge_weight_list.append(edge_weight)\n",
    "\n",
    "    G.add_weighted_edges_from(edge_weight_list)\n",
    "    \n",
    "    # 给每个节点增加标签\n",
    "    for node, data in list(G.nodes(data=True)):\n",
    "        data['label'] = node\n",
    "    \n",
    "    return G"
   ]
  },
  {
   "cell_type": "code",
   "execution_count": 4,
   "metadata": {},
   "outputs": [
    {
     "name": "stdout",
     "output_type": "stream",
     "text": [
      "迭代次数 1\n",
      "{4: [0, 1, 2, 3, 4, 5], 7: [6, 7]}\n",
      "complete!\n"
     ]
    },
    {
     "data": {
      "image/png": "[encoded data removed]",
      "text/plain": [
       "<Figure size 432x288 with 1 Axes>"
      ]
     },
     "metadata": {},
     "output_type": "display_data"
    }
   ],
   "source": [
    "def lpa(graph):\n",
    "    \"\"\"\n",
    "        Label Propagation Algorithm,这里的lpa目前为止只针对各个节点的权重均等的情况\n",
    "        Parameters:\n",
    "        ----------------------------\n",
    "            graph: 有向图与无向图均可，但是图的各个节点上要有原始的label\n",
    "        Return:\n",
    "            graph: 使用LPA算法进行社区发现算法更新label后的graph\n",
    "    \"\"\"\n",
    "    def estimate_stop_condition():\n",
    "        \"\"\"\n",
    "        算法终止条件：所有节点的标签与大部分邻居节点标签相同或者迭代次数超过指定值则停止\n",
    "        :return:\n",
    "        \"\"\"\n",
    "        for node in graph.nodes():\n",
    "            count = {}\n",
    "            for neighbor in graph.neighbors(node):\n",
    "                neighbor_label = graph._node[neighbor]['label']\n",
    "                count[neighbor_label] = count.setdefault(\n",
    "                    neighbor_label, 0) + 1\n",
    "\n",
    "            # 找到计数值最大的label\n",
    "            count_items = count.items()\n",
    "            count_items.sort(key=lambda x: x[1], reverse=True)\n",
    "            labels = [k for k, v in count_items if v == count_items[0][1]]\n",
    "            # 当节点标签与大部分邻居节点标签相同时则达到停止条件\n",
    "            if graph.node[node]['label'] not in labels:\n",
    "                return False\n",
    "\n",
    "        return True\n",
    "    \n",
    "    \n",
    "    \n",
    "    loop_count = 0\n",
    "\n",
    "    # 迭代标签传播过程\n",
    "    while True:\n",
    "        loop_count += 1\n",
    "        print('迭代次数', loop_count)\n",
    "\n",
    "        for node in graph.nodes():\n",
    "            count = {}\n",
    "            \n",
    "            # 获取各个邻居节点的标签\n",
    "            for neighbor in graph.neighbors(node):        \n",
    "                neighbor_label = graph._node[neighbor]['label']\n",
    "                count[neighbor_label] = count.get(neighbor_label,0)+1\n",
    "    \n",
    "            # 判断当前节点是否存在邻居节点，存在邻居节点找到邻居节点中计数最大的标签\n",
    "            if count!={}:\n",
    "                count_items = list(count.items())\n",
    "                count_items.sort(key=lambda x: x[1], reverse=True)\n",
    "                labels = [(k, v) for k, v in count_items if v == count_items[0][1]]\n",
    "\n",
    "                # 当多个标签最大计数值相同时随机选取一个标签\n",
    "                label = random.sample(labels, 1)[0][0]\n",
    "                graph._node[node]['label'] = label\n",
    "        \n",
    "        print(get_cluster_result(G))\n",
    "            \n",
    "        if loop_count >= 10 or estimate_stop_condition:\n",
    "            print('complete!')\n",
    "            return graph\n",
    "        \n",
    "def plot_graph(graph):\n",
    "    \"\"\"\n",
    "        使用带label的图进行聚类可视化\n",
    "    \"\"\"\n",
    "    \n",
    "    node_color = []\n",
    "    for node,data in graph.nodes().items():\n",
    "        node_color.append(data['label'])\n",
    "    \n",
    "    nx.draw_networkx(graph,node_color=node_color)\n",
    "    plt.show()\n",
    "    \n",
    "    \n",
    "def get_cluster_result(graph):\n",
    "    \"\"\"\n",
    "        输出各个类中的节点情况\n",
    "    \"\"\"\n",
    "    cluster_reuslt = {}\n",
    "    for node,data in graph.nodes().items():\n",
    "        label = data['label']\n",
    "        if cluster_reuslt.get(label,[])==[]:\n",
    "            cluster_reuslt[label] = []\n",
    "        cluster_reuslt[label].append(node)\n",
    "    \n",
    "    return cluster_reuslt\n",
    "    \n",
    "        \n",
    "        \n",
    "G = load_Data(filePath)      \n",
    "G= lpa(G)\n",
    "plot_graph(G)                             "
   ]
  },
  {
   "cell_type": "code",
   "execution_count": null,
   "metadata": {},
   "outputs": [],
   "source": []
  }
 ],
 "metadata": {
  "kernelspec": {
   "display_name": "Python 3",
   "language": "python",
   "name": "python3"
  },
  "language_info": {
   "codemirror_mode": {
    "name": "ipython",
    "version": 3
   },
   "file_extension": ".py",
   "mimetype": "text/x-python",
   "name": "python",
   "nbconvert_exporter": "python",
   "pygments_lexer": "ipython3",
   "version": "3.5.2"
  }
 },
 "nbformat": 4,
 "nbformat_minor": 4
}
